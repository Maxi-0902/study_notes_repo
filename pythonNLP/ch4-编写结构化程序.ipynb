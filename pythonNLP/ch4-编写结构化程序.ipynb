{
 "cells": [
  {
   "cell_type": "markdown",
   "metadata": {},
   "source": [
    "### 4.1 回到基础\n",
    "#### 赋值\n",
    "#### 等式\n",
    "#### 条件语句"
   ]
  },
  {
   "cell_type": "code",
   "execution_count": 1,
   "metadata": {},
   "outputs": [
    {
     "data": {
      "text/plain": [
       "False"
      ]
     },
     "execution_count": 1,
     "metadata": {},
     "output_type": "execute_result"
    }
   ],
   "source": [
    "# all()函数和any()函数可以应用到一个链表（或其他序列），\n",
    "# 来检查是否全部或任一项 目满足一些条件：\n",
    "sent = ['No', 'good', 'fish', 'goes', 'anywhere', 'without', 'a', 'porpoise', '.']\n",
    "all(len(w) > 4 for w in sent)"
   ]
  },
  {
   "cell_type": "code",
   "execution_count": 2,
   "metadata": {},
   "outputs": [
    {
     "data": {
      "text/plain": [
       "True"
      ]
     },
     "execution_count": 2,
     "metadata": {},
     "output_type": "execute_result"
    }
   ],
   "source": [
    "any(len(w) > 4 for w in sent)"
   ]
  },
  {
   "cell_type": "markdown",
   "metadata": {},
   "source": [
    "### 4.2 序列\n",
    "\n",
    "#### 序列类型上的操作\n",
    "![list4-1](./imgs/list4-1.jpg)"
   ]
  },
  {
   "cell_type": "code",
   "execution_count": 5,
   "metadata": {},
   "outputs": [
    {
     "data": {
      "text/plain": [
       "['Red', 'lorry', ',', 'yellow', 'red', '.']"
      ]
     },
     "execution_count": 5,
     "metadata": {},
     "output_type": "execute_result"
    }
   ],
   "source": [
    "import nltk\n",
    "raw = 'Red lorry, yellow lorry, red lorry, yellow lorry.'\n",
    "text = nltk.word_tokenize(raw)\n",
    "fdist = nltk.FreqDist(text)\n",
    "list(fdist)"
   ]
  },
  {
   "cell_type": "code",
   "execution_count": 6,
   "metadata": {},
   "outputs": [
    {
     "name": "stdout",
     "output_type": "stream",
     "text": [
      "1\n",
      "4\n",
      "3\n",
      "2\n",
      "1\n",
      "1\n"
     ]
    }
   ],
   "source": [
    "for key in fdist:\n",
    "    print(fdist[key])"
   ]
  },
  {
   "cell_type": "code",
   "execution_count": 7,
   "metadata": {},
   "outputs": [
    {
     "data": {
      "text/plain": [
       "['I', 'turned', 'the', 'spectroroute', 'off']"
      ]
     },
     "execution_count": 7,
     "metadata": {},
     "output_type": "execute_result"
    }
   ],
   "source": [
    "# 在接下来的例子中，我们使用元组重新安排我们的链表中的内容。\n",
    "# 可以省略括号，因为逗号比赋值的优先级更高。\n",
    "words = ['I', 'turned', 'off', 'the', 'spectroroute']\n",
    "words[2], words[3], words[4] = words[3], words[4], words[2]\n",
    "words"
   ]
  },
  {
   "cell_type": "code",
   "execution_count": 14,
   "metadata": {},
   "outputs": [
    {
     "data": {
      "text/plain": [
       "[('I', 'noun'),\n",
       " ('turned', 'verb'),\n",
       " ('off', 'prep'),\n",
       " ('the', 'det'),\n",
       " ('spectroroute', 'noun')]"
      ]
     },
     "execution_count": 14,
     "metadata": {},
     "output_type": "execute_result"
    }
   ],
   "source": [
    "words = ['I', 'turned', 'off', 'the', 'spectroroute']\n",
    "tags = ['noun', 'verb', 'prep', 'det', 'noun']\n",
    "list(zip(words, tags))"
   ]
  },
  {
   "cell_type": "code",
   "execution_count": 11,
   "metadata": {},
   "outputs": [
    {
     "data": {
      "text/plain": [
       "[(0, 'I'), (1, 'turned'), (2, 'off'), (3, 'the'), (4, 'spectroroute')]"
      ]
     },
     "execution_count": 11,
     "metadata": {},
     "output_type": "execute_result"
    }
   ],
   "source": [
    "list(enumerate(words))"
   ]
  },
  {
   "cell_type": "code",
   "execution_count": 12,
   "metadata": {},
   "outputs": [
    {
     "data": {
      "text/plain": [
       "True"
      ]
     },
     "execution_count": 12,
     "metadata": {},
     "output_type": "execute_result"
    }
   ],
   "source": [
    "text = nltk.corpus.nps_chat.words()\n",
    "cut = int(0.9 * len(text))\n",
    "training_data, test_data = text[:cut], text[cut:]\n",
    "text == training_data + test_data"
   ]
  },
  {
   "cell_type": "code",
   "execution_count": 13,
   "metadata": {},
   "outputs": [
    {
     "data": {
      "text/plain": [
       "9.0"
      ]
     },
     "execution_count": 13,
     "metadata": {},
     "output_type": "execute_result"
    }
   ],
   "source": [
    "len(training_data) / len(test_data)"
   ]
  },
  {
   "cell_type": "markdown",
   "metadata": {},
   "source": [
    "#### 合并不同类型的序列"
   ]
  },
  {
   "cell_type": "code",
   "execution_count": 15,
   "metadata": {},
   "outputs": [
    {
     "data": {
      "text/plain": [
       "'I off the turned spectroroute'"
      ]
     },
     "execution_count": 15,
     "metadata": {},
     "output_type": "execute_result"
    }
   ],
   "source": [
    "words = 'I turned off the spectroroute'.split()\n",
    "wordlens = [(len(word), word) for word in words]\n",
    "wordlens.sort()\n",
    "' '.join(w for (_, w) in wordlens)"
   ]
  },
  {
   "cell_type": "code",
   "execution_count": 16,
   "metadata": {},
   "outputs": [],
   "source": [
    "# 我们经常使用一个元组来保存一个纪录：与一些实体相关的不同字段的集合\n",
    "lexicon = [ #词汇条目 #拼写形式、词性、发音\n",
    "    ('the', 'det', ['Di:', 'D@']),\n",
    "    ('off', 'prep', ['Qf', 'O:f'])\n",
    "]\n",
    "lexicon.sort()\n",
    "lexicon[1] = ('turned', 'VBD', ['t3:nd', 't3`nd'])\n",
    "del lexicon[0]"
   ]
  },
  {
   "cell_type": "code",
   "execution_count": 17,
   "metadata": {},
   "outputs": [
    {
     "data": {
      "text/plain": [
       "[('turned', 'VBD', ['t3:nd', 't3`nd'])]"
      ]
     },
     "execution_count": 17,
     "metadata": {},
     "output_type": "execute_result"
    }
   ],
   "source": [
    "lexicon"
   ]
  },
  {
   "cell_type": "code",
   "execution_count": 18,
   "metadata": {},
   "outputs": [],
   "source": [
    "lexicon = tuple(lexicon)"
   ]
  },
  {
   "cell_type": "code",
   "execution_count": 19,
   "metadata": {},
   "outputs": [
    {
     "data": {
      "text/plain": [
       "(('turned', 'VBD', ['t3:nd', 't3`nd']),)"
      ]
     },
     "execution_count": 19,
     "metadata": {},
     "output_type": "execute_result"
    }
   ],
   "source": [
    "lexicon"
   ]
  },
  {
   "cell_type": "markdown",
   "metadata": {},
   "source": [
    "#### 产生器表达式"
   ]
  },
  {
   "cell_type": "code",
   "execution_count": 21,
   "metadata": {},
   "outputs": [
    {
     "data": {
      "text/plain": [
       "'word'"
      ]
     },
     "execution_count": 21,
     "metadata": {},
     "output_type": "execute_result"
    }
   ],
   "source": [
    "text = '''\"When I use a word,\" Humpty Dumpty said in rather a scornful tone,\n",
    "\"it means just what I choose it to mean - neither more nor less.\"'''\n",
    "[w.lower() for w in nltk.word_tokenize(text)]\n",
    "# 链表对象的存储空间必须在max()的值被计算之前分配\n",
    "max([w.lower() for w in nltk.word_tokenize(text)])"
   ]
  },
  {
   "cell_type": "code",
   "execution_count": 22,
   "metadata": {},
   "outputs": [
    {
     "data": {
      "text/plain": [
       "'word'"
      ]
     },
     "execution_count": 22,
     "metadata": {},
     "output_type": "execute_result"
    }
   ],
   "source": [
    "# 产生器表达式\n",
    "# 数据流向调用它的函数。\n",
    "# 由于调用的函数只是简单的要找最大值——按字典顺序排在最后的词——\n",
    "# 它可以处理数据流，而无需存储迄今为止的最大值以外的任何值。\n",
    "max(w.lower() for w in nltk.word_tokenize(text))"
   ]
  },
  {
   "cell_type": "markdown",
   "metadata": {},
   "source": [
    "### 4.3 风格的问题\n",
    "\n",
    "#### Python 代码风格\n",
    "#### 过程风格与声明风格\n",
    "#### 计数器的一些合理用途"
   ]
  },
  {
   "cell_type": "code",
   "execution_count": 23,
   "metadata": {},
   "outputs": [
    {
     "data": {
      "text/plain": [
       "[['The', 'dog', 'gave'],\n",
       " ['dog', 'gave', 'John'],\n",
       " ['gave', 'John', 'the'],\n",
       " ['John', 'the', 'newspaper']]"
      ]
     },
     "execution_count": 23,
     "metadata": {},
     "output_type": "execute_result"
    }
   ],
   "source": [
    "# 使用一个循环变量中提取链表中连续重叠的 n-grams：\n",
    "sent = ['The', 'dog', 'gave', 'John', 'the', 'newspaper']\n",
    "n = 3\n",
    "[sent[i:i+n] for i in range(len(sent) - n + 1)]"
   ]
  },
  {
   "cell_type": "markdown",
   "metadata": {},
   "source": [
    "确保循环变量范围的正确相当棘手的。因为这是 NLP 中的常见操作，NLTK提供了支\n",
    "持函数`bigrams(text)`、`trigrams(text)`和一个更通用的`ngrams(text, n)`。\n",
    "\n",
    "下面是我们如何使用循环变量构建多维结构的一个例子。例如：建立一个 m 行n 列的 数组，其中每个元素是一个集合，我们可以使用一个嵌套的链表推导"
   ]
  },
  {
   "cell_type": "code",
   "execution_count": 24,
   "metadata": {},
   "outputs": [
    {
     "name": "stdout",
     "output_type": "stream",
     "text": [
      "[[set(), set(), set(), set(), set(), set(), set()],\n",
      " [set(), set(), set(), set(), set(), set(), set()],\n",
      " [set(), set(), set(), set(), set(), {'Alice'}, set()]]\n"
     ]
    }
   ],
   "source": [
    "from pprint import pprint\n",
    "\n",
    "\n",
    "m, n = 3, 7\n",
    "array = [[set() for i in range(n)] for j in range(m)]\n",
    "array[2][5].add('Alice')\n",
    "pprint(array)"
   ]
  },
  {
   "cell_type": "code",
   "execution_count": 25,
   "metadata": {},
   "outputs": [
    {
     "name": "stdout",
     "output_type": "stream",
     "text": [
      "[[{7}, {7}, {7}, {7}, {7}, {7}, {7}],\n",
      " [{7}, {7}, {7}, {7}, {7}, {7}, {7}],\n",
      " [{7}, {7}, {7}, {7}, {7}, {7}, {7}]]\n"
     ]
    }
   ],
   "source": [
    "# 请注意，由于我们前面所讨论的有关对象复制的原因，使用乘法做这项工作是不正确的。\n",
    "array = [[set()] * n] * m\n",
    "array[2][5].add(7)\n",
    "pprint(array)"
   ]
  },
  {
   "cell_type": "markdown",
   "metadata": {},
   "source": [
    "### 4.4 函数：结构化编程的基础\n",
    "\n",
    "#### 累计函数"
   ]
  },
  {
   "cell_type": "code",
   "execution_count": 26,
   "metadata": {},
   "outputs": [
    {
     "name": "stdout",
     "output_type": "stream",
     "text": [
      "search1:\n",
      "Grizzlies'\n",
      "fizzled\n",
      "Rizzuto\n",
      "huzzahs\n",
      "dazzler\n",
      "jazz\n",
      "Pezza\n",
      "Pezza\n",
      "Pezza\n",
      "embezzling\n",
      "embezzlement\n",
      "pizza\n",
      "jazz\n",
      "Ozzie\n",
      "nozzle\n",
      "drizzly\n",
      "puzzle\n",
      "puzzle\n",
      "dazzling\n",
      "Sizzling\n",
      "guzzle\n",
      "puzzles\n",
      "dazzling\n",
      "jazz\n",
      "jazz\n",
      "Jazz\n",
      "jazz\n",
      "Jazz\n",
      "jazz\n",
      "jazz\n",
      "Jazz\n",
      "jazz\n",
      "jazz\n",
      "jazz\n",
      "Jazz\n",
      "jazz\n",
      "dizzy\n",
      "jazz\n",
      "Jazz\n",
      "puzzler\n",
      "jazz\n",
      "jazzmen\n",
      "jazz\n",
      "jazz\n",
      "Jazz\n",
      "Jazz\n",
      "Jazz\n",
      "jazz\n",
      "Jazz\n",
      "jazz\n",
      "jazz\n",
      "jazz\n",
      "Jazz\n",
      "jazz\n",
      "jazz\n",
      "jazz\n",
      "jazz\n",
      "jazz\n",
      "jazz\n",
      "jazz\n",
      "jazz\n",
      "jazz\n",
      "Jazz\n",
      "Jazz\n",
      "jazz\n",
      "jazz\n",
      "nozzles\n",
      "nozzle\n",
      "puzzle\n",
      "buzz\n",
      "puzzle\n",
      "blizzard\n",
      "blizzard\n",
      "sizzling\n",
      "puzzled\n",
      "puzzle\n",
      "puzzle\n",
      "muzzle\n",
      "muzzle\n",
      "muezzin\n",
      "blizzard\n",
      "Neo-Jazz\n",
      "jazz\n",
      "muzzle\n",
      "piazzas\n",
      "puzzles\n",
      "puzzles\n",
      "embezzle\n",
      "buzzed\n",
      "snazzy\n",
      "buzzes\n",
      "puzzled\n",
      "puzzled\n",
      "muzzle\n",
      "whizzing\n",
      "jazz\n",
      "Belshazzar\n",
      "Lizzie\n",
      "Lizzie\n",
      "Lizzie\n",
      "Lizzie\n",
      "Lizzie\n",
      "Lizzie\n",
      "Lizzie\n",
      "Lizzie\n",
      "Lizzie's\n",
      "Lizzie\n",
      "Lizzie\n",
      "Lizzie\n",
      "Lizzie\n",
      "Lizzie\n",
      "Lizzie\n",
      "Lizzie\n",
      "Lizzie\n",
      "Lizzie\n",
      "blizzard\n",
      "blizzards\n",
      "blizzard\n",
      "blizzard\n",
      "fuzzy\n",
      "Lazzeri\n",
      "Piazza\n",
      "piazza\n",
      "palazzi\n",
      "Piazza\n",
      "Piazza\n",
      "Palazzo\n",
      "Palazzo\n",
      "Palazzo\n",
      "Piazza\n",
      "Piazza\n",
      "Palazzo\n",
      "palazzo\n",
      "palazzo\n",
      "Palazzo\n",
      "Palazzo\n",
      "Piazza\n",
      "piazza\n",
      "piazza\n",
      "piazza\n",
      "Piazza\n",
      "Piazza\n",
      "Palazzo\n",
      "palazzo\n",
      "Piazza\n",
      "piazza\n",
      "pizza\n",
      "Piazza\n",
      "Palazzo\n",
      "palazzo\n",
      "dazzling\n",
      "puzzling\n",
      "Wozzek\n",
      "dazzling\n",
      "dazzling\n",
      "buzzing\n",
      "Jazz\n",
      "jazz\n",
      "Jazz\n",
      "Jazz\n",
      "jazz\n",
      "jazz\n",
      "jazz\n",
      "jazz\n",
      "Jazz\n",
      "jazz\n",
      "jazz\n",
      "jazz\n",
      "Fuzzy\n",
      "Lizzy\n",
      "Lizzy\n",
      "jazz\n",
      "fuzzy\n",
      "puzzles\n",
      "puzzling\n",
      "puzzling\n",
      "dazzle\n",
      "puzzle\n",
      "dazzling\n",
      "puzzled\n",
      "jazz\n",
      "jazz\n",
      "jazz\n",
      "jazzy\n",
      "whizzed\n",
      "frazzled\n",
      "quizzical\n",
      "puzzling\n",
      "poetry-and-jazz\n",
      "poetry-and-jazz\n",
      "jazz\n",
      "jazz\n",
      "jazz\n",
      "jazz\n",
      "jazz\n",
      "jazz\n",
      "jazz\n",
      "Jazz\n",
      "jazz\n",
      "jazz\n",
      "jazz\n",
      "poetry-and-jazz\n",
      "jazz\n",
      "jazz\n",
      "jazz\n",
      "Dizzy\n",
      "jazz\n",
      "jazz\n",
      "jazz\n",
      "jazz\n",
      "jazz\n",
      "poetry-and-jazz\n",
      "jazz\n",
      "jazz\n",
      "jazz\n",
      "jazz\n",
      "jazz\n",
      "jazz\n",
      "jazz\n",
      "jazz\n",
      "jazz\n",
      "jazz\n",
      "jazz\n",
      "jazz\n",
      "dazzled\n",
      "bedazzlement\n",
      "bedazzled\n",
      "Piazzo\n",
      "nozzles\n",
      "nozzles\n",
      "buzzing\n",
      "dazzles\n",
      "dizzy\n",
      "puzzling\n",
      "puzzling\n",
      "puzzling\n",
      "puzzle\n",
      "muzzle\n",
      "puzzled\n",
      "nozzle\n",
      "Pozzatti\n",
      "Pozzatti\n",
      "Pozzatti\n",
      "puzzled\n",
      "Pozzatti\n",
      "Pozzatti\n",
      "dazzling\n",
      "pizzicato\n",
      "Jazz\n",
      "jazz\n",
      "jazz\n",
      "jazz\n",
      "jazz\n",
      "nozzle\n",
      "grizzled\n",
      "fuzzy\n",
      "muzzle\n",
      "puzzled\n",
      "puzzle\n",
      "muzzle\n",
      "blizzard\n",
      "buzz\n",
      "dizzily\n",
      "drizzle\n",
      "drizzle\n",
      "drizzle\n",
      "sizzled\n",
      "puzzled\n",
      "puzzled\n",
      "puzzled\n",
      "fuzzed\n",
      "buzz\n",
      "buzz\n",
      "buzz\n",
      "buzz-buzz-buzz\n",
      "buzzes\n",
      "fuzzy\n",
      "frizzled\n",
      "drizzle\n",
      "drizzle\n",
      "drizzling\n",
      "drizzling\n",
      "fuzz\n",
      "jazz\n",
      "jazz\n",
      "fuzz\n",
      "puzzle\n",
      "puzzling\n",
      "Nozze\n",
      "mezzo\n",
      "puzzled\n",
      "puzzled\n",
      "dazzling\n",
      "muzzle\n",
      "muzzle\n",
      "muzzle\n",
      "buzzed\n",
      "whizzed\n",
      "sizzled\n",
      "palazzos\n",
      "puzzlement\n",
      "frizzling\n",
      "puzzled\n",
      "puzzled\n",
      "puzzled\n",
      "dazzling\n",
      "muzzles\n",
      "fuzzy\n",
      "jazz\n",
      "ex-jazz\n",
      "sizzle\n",
      "grizzly\n",
      "guzzled\n",
      "buzzing\n",
      "fuzz\n",
      "nuzzled\n",
      "Kizzie\n",
      "Kizzie\n",
      "Kizzie\n",
      "Kezziah\n",
      "Kizzie\n",
      "Kizzie\n",
      "Buzz's\n",
      "Buzz\n",
      "Buzz\n",
      "Buzz\n",
      "Buzz\n",
      "Buzz\n",
      "Buzz\n",
      "Buzz\n",
      "Buzz\n",
      "dizzy\n",
      "piazza\n",
      "buzzing\n",
      "Puzzled\n",
      "dizziness\n",
      "dazzled\n",
      "Piazza\n",
      "Carrozza\n",
      "fuzzy\n",
      "dizzy\n",
      "buzzing\n",
      "buzzing\n",
      "puzzled\n",
      "puzzling\n",
      "puzzled\n",
      "puzzled\n",
      "Quizzical\n",
      "pizza\n",
      "search2:\n",
      "Grizzlies'\n",
      "fizzled\n",
      "Rizzuto\n",
      "huzzahs\n",
      "dazzler\n",
      "jazz\n",
      "Pezza\n",
      "Pezza\n",
      "Pezza\n",
      "embezzling\n",
      "embezzlement\n",
      "pizza\n",
      "jazz\n",
      "Ozzie\n",
      "nozzle\n",
      "drizzly\n",
      "puzzle\n",
      "puzzle\n",
      "dazzling\n",
      "Sizzling\n",
      "guzzle\n",
      "puzzles\n",
      "dazzling\n",
      "jazz\n",
      "jazz\n",
      "Jazz\n",
      "jazz\n",
      "Jazz\n",
      "jazz\n",
      "jazz\n",
      "Jazz\n",
      "jazz\n",
      "jazz\n",
      "jazz\n",
      "Jazz\n",
      "jazz\n",
      "dizzy\n",
      "jazz\n",
      "Jazz\n",
      "puzzler\n",
      "jazz\n",
      "jazzmen\n",
      "jazz\n",
      "jazz\n",
      "Jazz\n",
      "Jazz\n",
      "Jazz\n",
      "jazz\n",
      "Jazz\n",
      "jazz\n",
      "jazz\n",
      "jazz\n",
      "Jazz\n",
      "jazz\n",
      "jazz\n",
      "jazz\n",
      "jazz\n",
      "jazz\n",
      "jazz\n",
      "jazz\n",
      "jazz\n",
      "jazz\n",
      "Jazz\n",
      "Jazz\n",
      "jazz\n",
      "jazz\n",
      "nozzles\n",
      "nozzle\n",
      "puzzle\n",
      "buzz\n",
      "puzzle\n",
      "blizzard\n",
      "blizzard\n",
      "sizzling\n",
      "puzzled\n",
      "puzzle\n",
      "puzzle\n",
      "muzzle\n",
      "muzzle\n",
      "muezzin\n",
      "blizzard\n",
      "Neo-Jazz\n",
      "jazz\n",
      "muzzle\n",
      "piazzas\n",
      "puzzles\n",
      "puzzles\n",
      "embezzle\n",
      "buzzed\n",
      "snazzy\n",
      "buzzes\n",
      "puzzled\n",
      "puzzled\n",
      "muzzle\n",
      "whizzing\n",
      "jazz\n",
      "Belshazzar\n",
      "Lizzie\n",
      "Lizzie\n",
      "Lizzie\n",
      "Lizzie\n",
      "Lizzie\n",
      "Lizzie\n",
      "Lizzie\n",
      "Lizzie\n",
      "Lizzie's\n",
      "Lizzie\n",
      "Lizzie\n",
      "Lizzie\n",
      "Lizzie\n",
      "Lizzie\n",
      "Lizzie\n",
      "Lizzie\n",
      "Lizzie\n",
      "Lizzie\n",
      "blizzard\n",
      "blizzards\n",
      "blizzard\n",
      "blizzard\n",
      "fuzzy\n",
      "Lazzeri\n",
      "Piazza\n",
      "piazza\n",
      "palazzi\n",
      "Piazza\n",
      "Piazza\n",
      "Palazzo\n",
      "Palazzo\n",
      "Palazzo\n",
      "Piazza\n",
      "Piazza\n",
      "Palazzo\n",
      "palazzo\n",
      "palazzo\n",
      "Palazzo\n",
      "Palazzo\n",
      "Piazza\n",
      "piazza\n",
      "piazza\n",
      "piazza\n",
      "Piazza\n",
      "Piazza\n",
      "Palazzo\n",
      "palazzo\n",
      "Piazza\n",
      "piazza\n",
      "pizza\n",
      "Piazza\n",
      "Palazzo\n",
      "palazzo\n",
      "dazzling\n",
      "puzzling\n",
      "Wozzek\n",
      "dazzling\n",
      "dazzling\n",
      "buzzing\n",
      "Jazz\n",
      "jazz\n",
      "Jazz\n",
      "Jazz\n",
      "jazz\n",
      "jazz\n",
      "jazz\n",
      "jazz\n",
      "Jazz\n",
      "jazz\n",
      "jazz\n",
      "jazz\n",
      "Fuzzy\n",
      "Lizzy\n",
      "Lizzy\n",
      "jazz\n",
      "fuzzy\n",
      "puzzles\n",
      "puzzling\n",
      "puzzling\n",
      "dazzle\n",
      "puzzle\n",
      "dazzling\n",
      "puzzled\n",
      "jazz\n",
      "jazz\n",
      "jazz\n",
      "jazzy\n",
      "whizzed\n",
      "frazzled\n",
      "quizzical\n",
      "puzzling\n",
      "poetry-and-jazz\n",
      "poetry-and-jazz\n",
      "jazz\n",
      "jazz\n",
      "jazz\n",
      "jazz\n",
      "jazz\n",
      "jazz\n",
      "jazz\n",
      "Jazz\n",
      "jazz\n",
      "jazz\n",
      "jazz\n",
      "poetry-and-jazz\n",
      "jazz\n",
      "jazz\n",
      "jazz\n",
      "Dizzy\n",
      "jazz\n",
      "jazz\n",
      "jazz\n",
      "jazz\n",
      "jazz\n",
      "poetry-and-jazz\n",
      "jazz\n",
      "jazz\n",
      "jazz\n",
      "jazz\n",
      "jazz\n",
      "jazz\n",
      "jazz\n",
      "jazz\n",
      "jazz\n",
      "jazz\n",
      "jazz\n",
      "jazz\n",
      "dazzled\n",
      "bedazzlement\n",
      "bedazzled\n",
      "Piazzo\n",
      "nozzles\n",
      "nozzles\n",
      "buzzing\n",
      "dazzles\n",
      "dizzy\n",
      "puzzling\n",
      "puzzling\n",
      "puzzling\n",
      "puzzle\n",
      "muzzle\n",
      "puzzled\n",
      "nozzle\n",
      "Pozzatti\n",
      "Pozzatti\n",
      "Pozzatti\n",
      "puzzled\n",
      "Pozzatti\n",
      "Pozzatti\n",
      "dazzling\n",
      "pizzicato\n",
      "Jazz\n",
      "jazz\n",
      "jazz\n",
      "jazz\n",
      "jazz\n",
      "nozzle\n",
      "grizzled\n",
      "fuzzy\n",
      "muzzle\n",
      "puzzled\n",
      "puzzle\n",
      "muzzle\n",
      "blizzard\n",
      "buzz\n",
      "dizzily\n",
      "drizzle\n",
      "drizzle\n",
      "drizzle\n",
      "sizzled\n",
      "puzzled\n",
      "puzzled\n",
      "puzzled\n",
      "fuzzed\n",
      "buzz\n",
      "buzz\n",
      "buzz\n",
      "buzz-buzz-buzz\n",
      "buzzes\n",
      "fuzzy\n",
      "frizzled\n",
      "drizzle\n",
      "drizzle\n",
      "drizzling\n",
      "drizzling\n",
      "fuzz\n",
      "jazz\n",
      "jazz\n",
      "fuzz\n",
      "puzzle\n",
      "puzzling\n",
      "Nozze\n",
      "mezzo\n",
      "puzzled\n",
      "puzzled\n",
      "dazzling\n",
      "muzzle\n",
      "muzzle\n",
      "muzzle\n",
      "buzzed\n",
      "whizzed\n",
      "sizzled\n",
      "palazzos\n",
      "puzzlement\n",
      "frizzling\n",
      "puzzled\n",
      "puzzled\n",
      "puzzled\n",
      "dazzling\n",
      "muzzles\n",
      "fuzzy\n",
      "jazz\n",
      "ex-jazz\n",
      "sizzle\n",
      "grizzly\n",
      "guzzled\n",
      "buzzing\n",
      "fuzz\n",
      "nuzzled\n",
      "Kizzie\n",
      "Kizzie\n",
      "Kizzie\n",
      "Kezziah\n",
      "Kizzie\n",
      "Kizzie\n",
      "Buzz's\n",
      "Buzz\n",
      "Buzz\n",
      "Buzz\n",
      "Buzz\n",
      "Buzz\n",
      "Buzz\n",
      "Buzz\n",
      "Buzz\n",
      "dizzy\n",
      "piazza\n",
      "buzzing\n",
      "Puzzled\n",
      "dizziness\n",
      "dazzled\n",
      "Piazza\n",
      "Carrozza\n",
      "fuzzy\n",
      "dizzy\n",
      "buzzing\n",
      "buzzing\n",
      "puzzled\n",
      "puzzling\n",
      "puzzled\n",
      "puzzled\n",
      "Quizzical\n",
      "pizza\n"
     ]
    }
   ],
   "source": [
    "# 例4-5. 累计输出到一个链表\n",
    "def search1(substring, words):\n",
    "    results = []\n",
    "    for word in words:\n",
    "        if substring in word:\n",
    "            results.append(word)\n",
    "    return results\n",
    "\n",
    "def search2(substring, words):\n",
    "    for word in words:\n",
    "        if substring in word:\n",
    "            yield word\n",
    "\n",
    "print(\"search1:\")\n",
    "for item in search1('zz', nltk.corpus.brown.words()):\n",
    "    print(item)\n",
    "\n",
    "print(\"search2:\")\n",
    "for item in search2('zz', nltk.corpus.brown.words()):\n",
    "    print(item)"
   ]
  },
  {
   "cell_type": "markdown",
   "metadata": {},
   "source": [
    "函数`search2()`是一个产生器。第一次调用此函数，它运行到 `yield` 语句然后停下来。 调用程序获得第一个词，没有任何必要的处理。一旦调用程序对另一个词做好准备，函数会从停下来的地方继续执行，直到再次遇到 `yield` 语句。这种方法通常更有效，因为函数只产生调用程序需要的数据，并不需要分配额外的内存来存储输出（参见前面关于产生器表达式的讨论）。\n",
    "\n",
    "下面是一个更复杂的产生器的例子，产生一个词链表的所有排列。为了强制 `permutations()`函数产生所有它的输出，我们将它包装在list() ``调用中。"
   ]
  },
  {
   "cell_type": "code",
   "execution_count": 27,
   "metadata": {},
   "outputs": [
    {
     "data": {
      "text/plain": [
       "[['police', 'fish', 'buffalo'],\n",
       " ['fish', 'police', 'buffalo'],\n",
       " ['fish', 'buffalo', 'police'],\n",
       " ['police', 'buffalo', 'fish'],\n",
       " ['buffalo', 'police', 'fish'],\n",
       " ['buffalo', 'fish', 'police']]"
      ]
     },
     "execution_count": 27,
     "metadata": {},
     "output_type": "execute_result"
    }
   ],
   "source": [
    "def permutations(seq):\n",
    "    if len(seq) <= 1:\n",
    "        yield seq\n",
    "    else:\n",
    "        for perm in permutations(seq[1:]):\n",
    "            for i in range(len(perm) + 1):\n",
    "                yield perm[:i] + seq[0:1] + perm[i:]\n",
    "\n",
    "list(permutations(['police', 'fish', 'buffalo']))"
   ]
  },
  {
   "cell_type": "markdown",
   "metadata": {},
   "source": [
    "#### 高阶函数\n",
    "\n",
    "Python提供了一些具有函数式编程语言标准特征的高阶函数，如：`Haskell`。我们将在这里演示它们，与使用链表推导的相对应的表达一起。\n",
    "\n",
    "让我们从定义一个函数 `is_content_word()`开始，它检查一个词是否来自一个开放的实词类。使用此函数作为 `offilter()`的第一个参数，它对作为它的第二个参数的序列中的每个项目运用该函数，只保留该函数返回`True`的项目。"
   ]
  },
  {
   "cell_type": "code",
   "execution_count": 29,
   "metadata": {},
   "outputs": [
    {
     "data": {
      "text/plain": [
       "['Take', 'care', 'of', 'sense', 'sounds', 'take', 'care', 'of', 'themselves']"
      ]
     },
     "execution_count": 29,
     "metadata": {},
     "output_type": "execute_result"
    }
   ],
   "source": [
    "def is_content_word(word):\n",
    "    return word.lower() not in ['a' 'of', 'the', 'and', 'will', ',','.']\n",
    "\n",
    "sent = ['Take', 'care', 'of', 'the', 'sense', ',', 'and', 'the',\n",
    "'sounds', 'will', 'take', 'care', 'of', 'themselves', '.']\n",
    "\n",
    "list(filter(is_content_word, sent))"
   ]
  },
  {
   "cell_type": "code",
   "execution_count": 31,
   "metadata": {},
   "outputs": [
    {
     "data": {
      "text/plain": [
       "['Take', 'care', 'of', 'sense', 'sounds', 'take', 'care', 'of', 'themselves']"
      ]
     },
     "execution_count": 31,
     "metadata": {},
     "output_type": "execute_result"
    }
   ],
   "source": [
    "[w for w in sent if is_content_word(w)]"
   ]
  },
  {
   "cell_type": "markdown",
   "metadata": {},
   "source": [
    "另一个高阶函数是`map()`，将一个函数运用到一个序列中的每一项。它是我们在本节早先看到的函数 `extract_property()`的一个通用版本。这里是一个简单的方法找出布朗语 料库新闻部分中的句子的平均长度，后面跟着的是使用链表推导计算的等效版本："
   ]
  },
  {
   "cell_type": "code",
   "execution_count": 34,
   "metadata": {},
   "outputs": [
    {
     "data": {
      "text/plain": [
       "21.75081116158339"
      ]
     },
     "execution_count": 34,
     "metadata": {},
     "output_type": "execute_result"
    }
   ],
   "source": [
    "lengths = list(map(len, nltk.corpus.brown.sents(categories='news')))\n",
    "sum(lengths) / len(lengths)"
   ]
  },
  {
   "cell_type": "code",
   "execution_count": 36,
   "metadata": {},
   "outputs": [
    {
     "data": {
      "text/plain": [
       "21.75081116158339"
      ]
     },
     "execution_count": 36,
     "metadata": {},
     "output_type": "execute_result"
    }
   ],
   "source": [
    "lengths = [len(w) for w in nltk.corpus.brown.sents(categories='news')]\n",
    "sum(lengths) / len(lengths)"
   ]
  },
  {
   "cell_type": "markdown",
   "metadata": {},
   "source": [
    "在上面的例子中，我们指定了一个用户定义的函数 `is_content_word()`和一个内置函\n",
    "数 `len()`。我们还可以提供一个 `lambda` 表达式。这里是两个等效的例子，计数每个词中的元音的数量。"
   ]
  },
  {
   "cell_type": "code",
   "execution_count": 38,
   "metadata": {},
   "outputs": [
    {
     "data": {
      "text/plain": [
       "[2, 2, 1, 1, 2, 0, 1, 1, 2, 1, 2, 2, 1, 3, 0]"
      ]
     },
     "execution_count": 38,
     "metadata": {},
     "output_type": "execute_result"
    }
   ],
   "source": [
    "list(map(lambda w: len(list(filter(lambda c: c.lower() in \"aeiou\", w))), sent))"
   ]
  },
  {
   "cell_type": "code",
   "execution_count": 39,
   "metadata": {},
   "outputs": [
    {
     "data": {
      "text/plain": [
       "[2, 2, 1, 1, 2, 0, 1, 1, 2, 1, 2, 2, 1, 3, 0]"
      ]
     },
     "execution_count": 39,
     "metadata": {},
     "output_type": "execute_result"
    }
   ],
   "source": [
    "[len([c for c in w if c.lower() in \"aeiou\"]) for w in sent]"
   ]
  },
  {
   "cell_type": "markdown",
   "metadata": {},
   "source": [
    "### 4.6 程序开发\n",
    "\n",
    "#### Python 模块的结构\n",
    "\n",
    "你可以使用变量`__file__`定位你的系统中任一NLTK 模块的代码：`nltk.metrics.__file__`。\n",
    "\n",
    "模块的一些变量和函数仅用于**模块内部**。它们的名字应该以下划线开头，如`_helper()`，因为**这将隐藏名称**。如果另一个模块使用习惯用法：**`from modul e import *` 导入这个模块，这些名称将不会被导入**。你可以选择性的列出一个模块的外部可访问的名称，使用像这样的一个特殊的内置变量:\n",
    "`__all__ = ['edit_distance', 'jaccard_distance']`\n",
    "\n",
    "\n",
    "#### 调试技术\n",
    "\n",
    "Python 提供了一个调试器，它允许你监视程序的执行，指定程序暂停运行的行号（即\n",
    "断点），逐步调试代码段和检查变量的值。你可以如下方式在你的代码中调用调试器：\n",
    "```python\n",
    "import pdb\n",
    "import mymodule\n",
    "pdb.run('mymodule.myfuction()')\n",
    "```\n",
    "它会给出一个提示(`Pdb`)，你可以在那里输入指令给调试器。输入 `help` 来查看命令的\n",
    "完整列表。输入`step(或只输入s)`将执行当前行然后停止。如果当前行调用一个函数，它将进入这个函数并停止在第一行。输入`next(或只输入n)`是类似的，但它会在当前函数中的下一行停止执行。`break（或b）`命令可用于创建或列出断点。输入 `continue（或c）`会继续执行直到遇到下一个断点。输入任何变量的名称可以检查它的值。\n",
    "\n",
    "\n",
    "\n",
    "### 4.7 算法设计\n",
    "\n",
    "分治：我们解决一个大小为`n`的问题通过将其分成两个大小为`n/2`的问题，解决这些问题，组合它们的结果成为原问题的结果。\n",
    "#### 递归\n",
    "让我们用递归来构建一个深嵌套的对象。一个字母查找树（`letter trie`）是一种可以用来索引词汇的数据结构，一次一个字母。（根据词检索 `word retrieval` 而得名）。例如：如果 `trie` 包含一个字母的查找树，那么 `trie['c']`是一个较小的查找树包含所有以`c`开头的词。例 4-6 演示使用Python字典（5.3节）构建查找树的递归过程。插入 词`chien`（狗的法语），我们将`c`分类，递归的掺入 `hien` 到 trie['c']的子查找树中。递归继续直到词中没有剩余的字母，于是我们存储的了预期值（本例中是词chien）。"
   ]
  },
  {
   "cell_type": "code",
   "execution_count": 44,
   "metadata": {},
   "outputs": [],
   "source": [
    "# 例4-6. 构建一个字母查找树：一个递归函数建立一个嵌套的字典结构，\n",
    "# 每一级嵌套包含给定前缀的所有单词，子查找树含有所有可能的后续词。\n",
    "def insert(trie, key, value):\n",
    "    if key:\n",
    "        first, rest = key[0], key[1:]\n",
    "        if first not in trie:\n",
    "            trie[first] = {}\n",
    "        insert(trie[first], rest, value)\n",
    "    else:\n",
    "        trie['value'] = value"
   ]
  },
  {
   "cell_type": "code",
   "execution_count": 45,
   "metadata": {},
   "outputs": [
    {
     "data": {
      "text/plain": [
       "defaultdict(dict, {})"
      ]
     },
     "execution_count": 45,
     "metadata": {},
     "output_type": "execute_result"
    }
   ],
   "source": [
    "trie = nltk.defaultdict(dict)\n",
    "trie"
   ]
  },
  {
   "cell_type": "code",
   "execution_count": 46,
   "metadata": {},
   "outputs": [],
   "source": [
    "insert(trie, 'chat', 'cat')"
   ]
  },
  {
   "cell_type": "code",
   "execution_count": 47,
   "metadata": {},
   "outputs": [],
   "source": [
    "insert(trie, 'chien', 'dog')\n",
    "insert(trie, 'chair', 'flesh')\n",
    "insert(trie, 'chic', 'stylish')\n",
    "trie = dict(trie) ## for nicer printing"
   ]
  },
  {
   "cell_type": "code",
   "execution_count": 48,
   "metadata": {},
   "outputs": [
    {
     "data": {
      "text/plain": [
       "'cat'"
      ]
     },
     "execution_count": 48,
     "metadata": {},
     "output_type": "execute_result"
    }
   ],
   "source": [
    "trie['c']['h']['a']['t']['value']"
   ]
  },
  {
   "cell_type": "code",
   "execution_count": 49,
   "metadata": {},
   "outputs": [
    {
     "name": "stdout",
     "output_type": "stream",
     "text": [
      "{'c': {'h': {'a': {'i': {'r': {'value': 'flesh'}}, 't': {'value': 'cat'}},\n",
      "             'i': {'c': {'value': 'stylish'}, 'e': {'n': {'value': 'dog'}}}}}}\n"
     ]
    }
   ],
   "source": [
    "pprint(trie)"
   ]
  },
  {
   "cell_type": "markdown",
   "metadata": {},
   "source": [
    "#### 权衡空间与时间\n",
    "\n",
    "我们有时可以显著的加快程序的执行，通过建设一个辅助的数据结构，例如：索引。例\n",
    "4-7实现一个简单的电影评论语料库的全文检索系统。通过索引文档集合，它提供更快的查 找。"
   ]
  },
  {
   "cell_type": "code",
   "execution_count": 50,
   "metadata": {},
   "outputs": [
    {
     "name": "stdout",
     "output_type": "stream",
     "text": [
      "Building Index...\n"
     ]
    },
    {
     "ename": "TypeError",
     "evalue": "expected str, bytes or os.PathLike object, not ZipFilePathPointer",
     "output_type": "error",
     "traceback": [
      "\u001b[1;31m---------------------------------------------------------------------------\u001b[0m",
      "\u001b[1;31mTypeError\u001b[0m                                 Traceback (most recent call last)",
      "\u001b[1;32m<ipython-input-50-6d4ceeb0bbe7>\u001b[0m in \u001b[0;36m<module>\u001b[1;34m\u001b[0m\n\u001b[0;32m     14\u001b[0m \u001b[0mprint\u001b[0m\u001b[1;33m(\u001b[0m\u001b[1;34m\"Building Index...\"\u001b[0m\u001b[1;33m)\u001b[0m\u001b[1;33m\u001b[0m\u001b[1;33m\u001b[0m\u001b[0m\n\u001b[0;32m     15\u001b[0m \u001b[0mfiles\u001b[0m \u001b[1;33m=\u001b[0m \u001b[0mnltk\u001b[0m\u001b[1;33m.\u001b[0m\u001b[0mcorpus\u001b[0m\u001b[1;33m.\u001b[0m\u001b[0mmovie_reviews\u001b[0m\u001b[1;33m.\u001b[0m\u001b[0mabspaths\u001b[0m\u001b[1;33m(\u001b[0m\u001b[1;33m)\u001b[0m\u001b[1;33m\u001b[0m\u001b[1;33m\u001b[0m\u001b[0m\n\u001b[1;32m---> 16\u001b[1;33m \u001b[0midx\u001b[0m \u001b[1;33m=\u001b[0m \u001b[0mnltk\u001b[0m\u001b[1;33m.\u001b[0m\u001b[0mIndex\u001b[0m\u001b[1;33m(\u001b[0m\u001b[1;33m(\u001b[0m\u001b[0mw\u001b[0m\u001b[1;33m,\u001b[0m \u001b[0mf\u001b[0m\u001b[1;33m)\u001b[0m \u001b[1;32mfor\u001b[0m \u001b[0mf\u001b[0m \u001b[1;32min\u001b[0m \u001b[0mfiles\u001b[0m \u001b[1;32mfor\u001b[0m \u001b[0mw\u001b[0m \u001b[1;32min\u001b[0m \u001b[0mraw\u001b[0m\u001b[1;33m(\u001b[0m\u001b[0mf\u001b[0m\u001b[1;33m)\u001b[0m\u001b[1;33m.\u001b[0m\u001b[0msplit\u001b[0m\u001b[1;33m(\u001b[0m\u001b[1;33m)\u001b[0m\u001b[1;33m)\u001b[0m\u001b[1;33m\u001b[0m\u001b[1;33m\u001b[0m\u001b[0m\n\u001b[0m\u001b[0;32m     17\u001b[0m \u001b[0mquery\u001b[0m \u001b[1;33m=\u001b[0m \u001b[1;34m''\u001b[0m\u001b[1;33m\u001b[0m\u001b[1;33m\u001b[0m\u001b[0m\n\u001b[0;32m     18\u001b[0m \u001b[1;32mwhile\u001b[0m \u001b[0mquery\u001b[0m \u001b[1;33m!=\u001b[0m \u001b[1;34m'quit'\u001b[0m\u001b[1;33m:\u001b[0m\u001b[1;33m\u001b[0m\u001b[1;33m\u001b[0m\u001b[0m\n",
      "\u001b[1;32mf:\\Anaconda3\\lib\\site-packages\\nltk\\util.py\u001b[0m in \u001b[0;36m__init__\u001b[1;34m(self, pairs)\u001b[0m\n\u001b[0;32m    169\u001b[0m     \u001b[1;32mdef\u001b[0m \u001b[0m__init__\u001b[0m\u001b[1;33m(\u001b[0m\u001b[0mself\u001b[0m\u001b[1;33m,\u001b[0m \u001b[0mpairs\u001b[0m\u001b[1;33m)\u001b[0m\u001b[1;33m:\u001b[0m\u001b[1;33m\u001b[0m\u001b[1;33m\u001b[0m\u001b[0m\n\u001b[0;32m    170\u001b[0m         \u001b[0mdefaultdict\u001b[0m\u001b[1;33m.\u001b[0m\u001b[0m__init__\u001b[0m\u001b[1;33m(\u001b[0m\u001b[0mself\u001b[0m\u001b[1;33m,\u001b[0m \u001b[0mlist\u001b[0m\u001b[1;33m)\u001b[0m\u001b[1;33m\u001b[0m\u001b[1;33m\u001b[0m\u001b[0m\n\u001b[1;32m--> 171\u001b[1;33m         \u001b[1;32mfor\u001b[0m \u001b[0mkey\u001b[0m\u001b[1;33m,\u001b[0m \u001b[0mvalue\u001b[0m \u001b[1;32min\u001b[0m \u001b[0mpairs\u001b[0m\u001b[1;33m:\u001b[0m\u001b[1;33m\u001b[0m\u001b[1;33m\u001b[0m\u001b[0m\n\u001b[0m\u001b[0;32m    172\u001b[0m             \u001b[0mself\u001b[0m\u001b[1;33m[\u001b[0m\u001b[0mkey\u001b[0m\u001b[1;33m]\u001b[0m\u001b[1;33m.\u001b[0m\u001b[0mappend\u001b[0m\u001b[1;33m(\u001b[0m\u001b[0mvalue\u001b[0m\u001b[1;33m)\u001b[0m\u001b[1;33m\u001b[0m\u001b[1;33m\u001b[0m\u001b[0m\n\u001b[0;32m    173\u001b[0m \u001b[1;33m\u001b[0m\u001b[0m\n",
      "\u001b[1;32m<ipython-input-50-6d4ceeb0bbe7>\u001b[0m in \u001b[0;36m<genexpr>\u001b[1;34m(.0)\u001b[0m\n\u001b[0;32m     14\u001b[0m \u001b[0mprint\u001b[0m\u001b[1;33m(\u001b[0m\u001b[1;34m\"Building Index...\"\u001b[0m\u001b[1;33m)\u001b[0m\u001b[1;33m\u001b[0m\u001b[1;33m\u001b[0m\u001b[0m\n\u001b[0;32m     15\u001b[0m \u001b[0mfiles\u001b[0m \u001b[1;33m=\u001b[0m \u001b[0mnltk\u001b[0m\u001b[1;33m.\u001b[0m\u001b[0mcorpus\u001b[0m\u001b[1;33m.\u001b[0m\u001b[0mmovie_reviews\u001b[0m\u001b[1;33m.\u001b[0m\u001b[0mabspaths\u001b[0m\u001b[1;33m(\u001b[0m\u001b[1;33m)\u001b[0m\u001b[1;33m\u001b[0m\u001b[1;33m\u001b[0m\u001b[0m\n\u001b[1;32m---> 16\u001b[1;33m \u001b[0midx\u001b[0m \u001b[1;33m=\u001b[0m \u001b[0mnltk\u001b[0m\u001b[1;33m.\u001b[0m\u001b[0mIndex\u001b[0m\u001b[1;33m(\u001b[0m\u001b[1;33m(\u001b[0m\u001b[0mw\u001b[0m\u001b[1;33m,\u001b[0m \u001b[0mf\u001b[0m\u001b[1;33m)\u001b[0m \u001b[1;32mfor\u001b[0m \u001b[0mf\u001b[0m \u001b[1;32min\u001b[0m \u001b[0mfiles\u001b[0m \u001b[1;32mfor\u001b[0m \u001b[0mw\u001b[0m \u001b[1;32min\u001b[0m \u001b[0mraw\u001b[0m\u001b[1;33m(\u001b[0m\u001b[0mf\u001b[0m\u001b[1;33m)\u001b[0m\u001b[1;33m.\u001b[0m\u001b[0msplit\u001b[0m\u001b[1;33m(\u001b[0m\u001b[1;33m)\u001b[0m\u001b[1;33m)\u001b[0m\u001b[1;33m\u001b[0m\u001b[1;33m\u001b[0m\u001b[0m\n\u001b[0m\u001b[0;32m     17\u001b[0m \u001b[0mquery\u001b[0m \u001b[1;33m=\u001b[0m \u001b[1;34m''\u001b[0m\u001b[1;33m\u001b[0m\u001b[1;33m\u001b[0m\u001b[0m\n\u001b[0;32m     18\u001b[0m \u001b[1;32mwhile\u001b[0m \u001b[0mquery\u001b[0m \u001b[1;33m!=\u001b[0m \u001b[1;34m'quit'\u001b[0m\u001b[1;33m:\u001b[0m\u001b[1;33m\u001b[0m\u001b[1;33m\u001b[0m\u001b[0m\n",
      "\u001b[1;32m<ipython-input-50-6d4ceeb0bbe7>\u001b[0m in \u001b[0;36mraw\u001b[1;34m(file)\u001b[0m\n\u001b[0;32m      2\u001b[0m \u001b[1;32mimport\u001b[0m \u001b[0mre\u001b[0m\u001b[1;33m\u001b[0m\u001b[1;33m\u001b[0m\u001b[0m\n\u001b[0;32m      3\u001b[0m \u001b[1;32mdef\u001b[0m \u001b[0mraw\u001b[0m\u001b[1;33m(\u001b[0m\u001b[0mfile\u001b[0m\u001b[1;33m)\u001b[0m\u001b[1;33m:\u001b[0m\u001b[1;33m\u001b[0m\u001b[1;33m\u001b[0m\u001b[0m\n\u001b[1;32m----> 4\u001b[1;33m     \u001b[0mcontents\u001b[0m \u001b[1;33m=\u001b[0m \u001b[0mopen\u001b[0m\u001b[1;33m(\u001b[0m\u001b[0mfile\u001b[0m\u001b[1;33m)\u001b[0m\u001b[1;33m.\u001b[0m\u001b[0mread\u001b[0m\u001b[1;33m(\u001b[0m\u001b[1;33m)\u001b[0m\u001b[1;33m\u001b[0m\u001b[1;33m\u001b[0m\u001b[0m\n\u001b[0m\u001b[0;32m      5\u001b[0m     \u001b[0mcontents\u001b[0m \u001b[1;33m=\u001b[0m \u001b[0mre\u001b[0m\u001b[1;33m.\u001b[0m\u001b[0msub\u001b[0m\u001b[1;33m(\u001b[0m\u001b[1;34mr'<.*?>'\u001b[0m\u001b[1;33m,\u001b[0m \u001b[1;34m' '\u001b[0m\u001b[1;33m,\u001b[0m \u001b[0mcontents\u001b[0m\u001b[1;33m)\u001b[0m \u001b[1;31m#匹配任意字符到下一个符合条件的字符\u001b[0m\u001b[1;33m\u001b[0m\u001b[1;33m\u001b[0m\u001b[0m\n\u001b[0;32m      6\u001b[0m     \u001b[0mcontents\u001b[0m \u001b[1;33m=\u001b[0m \u001b[0mre\u001b[0m\u001b[1;33m.\u001b[0m\u001b[0msub\u001b[0m\u001b[1;33m(\u001b[0m\u001b[1;34m'\\s+'\u001b[0m\u001b[1;33m,\u001b[0m \u001b[1;34m' '\u001b[0m\u001b[1;33m,\u001b[0m \u001b[0mcontents\u001b[0m\u001b[1;33m)\u001b[0m \u001b[1;31m# any space\u001b[0m\u001b[1;33m\u001b[0m\u001b[1;33m\u001b[0m\u001b[0m\n",
      "\u001b[1;31mTypeError\u001b[0m: expected str, bytes or os.PathLike object, not ZipFilePathPointer"
     ]
    }
   ],
   "source": [
    "# 例4-7. 一个简单的全文检索系统\n",
    "import re\n",
    "def raw(file):\n",
    "    contents = open(file).read()\n",
    "    contents = re.sub(r'<.*?>', ' ', contents) #匹配任意字符到下一个符合条件的字符\n",
    "    contents = re.sub('\\s+', ' ', contents) # any space\n",
    "    return contents\n",
    "\n",
    "def snippet(doc, term): # buggy\n",
    "    text = ' ' * 30 + raw(doc) + ' ' * 30\n",
    "    pos = text.index(term)\n",
    "    return text[pos-30:pos+30]\n",
    "\n",
    "print(\"Building Index...\")\n",
    "files = nltk.corpus.movie_reviews.abspaths()\n",
    "idx = nltk.Index((w, f) for f in files for w in raw(f).split())\n",
    "query = ''\n",
    "while query != 'quit':\n",
    "    query = raw_input(\"query\")\n",
    "    if query in idx:\n",
    "        for doc in idx[query]:\n",
    "            print(snippet(doc, query))\n",
    "    else:\n",
    "        print(\"Not found\")\n"
   ]
  },
  {
   "cell_type": "markdown",
   "metadata": {},
   "source": [
    "一个更微妙的空间与时间折中的例子涉**及使用整数标识符替换一个语料库的标识符**。我们为语料库创建一个词汇表，每个词都被存储一次的链表，然后转化这个链表以便我们能通 过查找任意词来找到它的标识符。每个文档都进行预处理，使一个词链表变成一个整数链表。 现在所有的语言模型都可以使用整数。见例 4-8中的如何为一个已标注的语料库做这个的例子的列表:"
   ]
  },
  {
   "cell_type": "code",
   "execution_count": 51,
   "metadata": {},
   "outputs": [],
   "source": [
    "# 例4-8. 预处理已标注的语料库数据，将所有的词和标注转换成整数\n",
    "def preprocess(tagged_corpus):\n",
    "    words = set()\n",
    "    tags = set()\n",
    "    for sent in tagged_corpus:\n",
    "        for word, tag in sent:\n",
    "            words.add(word)\n",
    "            tags.add(tag)\n",
    "    wm = dict((w, i) for (i, w) in enumerate(words))\n",
    "    tm = dict((t, i) for (i, t) in enumerate(tags))\n",
    "    return [[(wm[w], tm[t]) for (w, t) in sent] for sent in tagged_corpus]"
   ]
  },
  {
   "cell_type": "markdown",
   "metadata": {},
   "source": [
    "空间时间权衡的另一个例子是维**护一个词汇表**。如果你需要处理一段输入文本检查所有的词是否在现有的词汇表中，**词汇表应存储为一个集合**，而不是一个链表。集合中的元素会自动索引，所以测试一个大的集合的成员将远远快于测试相应的链表的成员。我们可以使用 `timeit` 模块测试这种说法。`Timer` 类有两个参数：一个是多次执行的语\n",
    "句，一个是只在开始执行一次的设置代码。我们将分别使用一个整数的链表和一个整数的集合模拟 10万个项目的词汇表。测试语句将产生一个随机项，它有50％的机会在词汇表中。"
   ]
  },
  {
   "cell_type": "code",
   "execution_count": 63,
   "metadata": {},
   "outputs": [],
   "source": [
    "from timeit import Timer\n",
    "vocab_size = 100000\n",
    "setup_list = \"import random; vocab = range(%d)\" % vocab_size\n",
    "setup_set = \"import random; vocab = set(range(%d))\" % vocab_size\n",
    "statement = \"\\nrandom.randint(0, %d) in vocab\" % vocab_size * 2"
   ]
  },
  {
   "cell_type": "code",
   "execution_count": 64,
   "metadata": {},
   "outputs": [
    {
     "data": {
      "text/plain": [
       "0.0022080999915488064"
      ]
     },
     "execution_count": 64,
     "metadata": {},
     "output_type": "execute_result"
    }
   ],
   "source": [
    "Timer(statement, setup_list).timeit(1000)"
   ]
  },
  {
   "cell_type": "code",
   "execution_count": 65,
   "metadata": {},
   "outputs": [
    {
     "data": {
      "text/plain": [
       "0.0021704999962821603"
      ]
     },
     "execution_count": 65,
     "metadata": {},
     "output_type": "execute_result"
    }
   ],
   "source": [
    "Timer(statement, setup_set).timeit(1000)"
   ]
  },
  {
   "cell_type": "markdown",
   "metadata": {},
   "source": [
    "#### 动态规划\n",
    "动态规划（`Dynamic programming`）是一种自然语言处理中被广泛使用的算法设计的一\n",
    "般方法。\n",
    "\n",
    "动态规划用于解决包含多个**重叠的子问题**的问题。不是反复计算这些子问题，而是简单的将它们的计算结果存储在一个查找表中。\n",
    "\n",
    "在本节的余下部分，我们将介绍动态规划，但在一个相当不同的背景：句法分析，下介绍。\n",
    "\n",
    "Pingala 是大约生活在公元前5世纪的印度作家，作品有被称为《Chandas Shastra》的梵文韵律专著。Virahanka 大约在公元6世纪延续了这项工作，研究短音节和长音节组合产生一个长度为n的旋律的组合数。短音节，标记为`S`，占一个长度单位，而长音节，标记为 `L`，占2个长度单位。Pingala 发现，例如：有5种方式构造一个长度为4的旋律：`V4 = {L L, SSL, SLS, LSS, SSSS}`。请看，我们可以将`V4`分成两个子集，以 `L` 开始的子集和以`S` 开始的子集，如（1）所示。\n",
    "\n",
    "```\n",
    "(1) V4 = \n",
    "    LL, LSS \n",
    "        i.e. L prefixed to each item of V2 = {L, SS}\n",
    "    SSL, SLS, SSSS \n",
    "        i.e. S prefixed to each item of V3 = {SL, LS, SSS}\n",
    "```\n",
    "\n",
    "有了这个观察结果，我们可以写一个小的递归函数称为`virahanka1()`来计算这些旋\n",
    "律，如例 4-9 所示。请注意，要计算`V4`，我们先要计算`V3`和 `V`2。但要计算 `V3`，我们先要计算`V2`和 `V1`。在（2）中描述了这种调用结构。\n",
    "\n",
    "![v4](./imgs/v4.jpg)\n"
   ]
  },
  {
   "cell_type": "code",
   "execution_count": 68,
   "metadata": {},
   "outputs": [],
   "source": [
    "# 例4-9. 四种方法计算梵文旋律：\n",
    "# （一）迭代；（二）自底向上的动态规划；\n",
    "# （三）自上而下的动态规划；（四）内置默记法。\n",
    "def virahanka1(n):\n",
    "    if n == 0:\n",
    "        return [\"\"]\n",
    "    elif n == 1:\n",
    "        return [\"S\"]\n",
    "    else:\n",
    "        s = [\"S\" + prosody for prosody in virahanka1(n - 1)]\n",
    "        l = [\"L\" + prosody for prosody in virahanka1(n - 2)]\n",
    "        return s + l\n",
    "\n",
    "def virahanka2(n):\n",
    "    lookup = [[\"\"], [\"S\"]]\n",
    "    for i in range(n-1):\n",
    "        s = [\"S\" + prosody for prosody in lookup[i + 1]]\n",
    "        l = [\"L\" + prosody for prosody in lookup[i]]\n",
    "        lookup.append(s + l)\n",
    "    return lookup[n]\n",
    "\n",
    "def virahanka3(n, lookup={0:[\"\"], 1:[\"S\"]}):\n",
    "    if n not in lookup:\n",
    "        s = [\"S\" + prosody for prosody in virahanka3(n - 1)]\n",
    "        l = [\"L\" + prosody for prosody in virahanka3(n - 2)]\n",
    "        lookup[n] = s + l\n",
    "    return lookup[n]\n",
    "\n",
    "from nltk import memoize\n",
    "@memoize\n",
    "def virahanka4(n):\n",
    "    if n == 0:\n",
    "        return [\"\"]\n",
    "    elif n == 1:\n",
    "        return [\"S\"]\n",
    "    else:\n",
    "        s = [\"S\" + prosody for prosody in virahanka4(n - 1)]\n",
    "        l = [\"L\" + prosody for prosody in virahanka4(n - 2)]\n",
    "        return s + l"
   ]
  },
  {
   "cell_type": "code",
   "execution_count": 69,
   "metadata": {},
   "outputs": [
    {
     "data": {
      "text/plain": [
       "['SSSS', 'SSL', 'SLS', 'LSS', 'LL']"
      ]
     },
     "execution_count": 69,
     "metadata": {},
     "output_type": "execute_result"
    }
   ],
   "source": [
    "virahanka1(4)"
   ]
  },
  {
   "cell_type": "code",
   "execution_count": 70,
   "metadata": {},
   "outputs": [
    {
     "data": {
      "text/plain": [
       "['SSSS', 'SSL', 'SLS', 'LSS', 'LL']"
      ]
     },
     "execution_count": 70,
     "metadata": {},
     "output_type": "execute_result"
    }
   ],
   "source": [
    "virahanka2(4)"
   ]
  },
  {
   "cell_type": "code",
   "execution_count": 71,
   "metadata": {},
   "outputs": [
    {
     "data": {
      "text/plain": [
       "['SSSS', 'SSL', 'SLS', 'LSS', 'LL']"
      ]
     },
     "execution_count": 71,
     "metadata": {},
     "output_type": "execute_result"
    }
   ],
   "source": [
    "virahanka3(4)"
   ]
  },
  {
   "cell_type": "code",
   "execution_count": 72,
   "metadata": {},
   "outputs": [
    {
     "data": {
      "text/plain": [
       "['SSSS', 'SSL', 'SLS', 'LSS', 'LL']"
      ]
     },
     "execution_count": 72,
     "metadata": {},
     "output_type": "execute_result"
    }
   ],
   "source": [
    "virahanka4(4)"
   ]
  },
  {
   "cell_type": "markdown",
   "metadata": {},
   "source": [
    "请注意，`virahanka2()`所采取的办法是解决较大问题前先解决较小的问题。因此，这\n",
    "被称为自下而上的方法进行动态规划。不幸的是，对于某些应用它还是相当浪费资源的，因 为它计算的一些子问题在解决主问题时可能并不需要。采用自上而下的方法进行动态规划可 避免这种计算的浪费，如例 4-9中函数`virahanka3()`所示。不同于自下而上的方法，这种 方法是递归的。通过检查是否先前已存储了结果，它避免了 `virahanka1()`的巨大浪费。如 果没有存储，就递归的计算结果，并将结果存储在表中。最后一步返回存储的结果。最后一 种方法，`invirahanka4()`，使用一个Python的“装饰器”称为默记法（`memoize`），它会 做`virahanka3()`所做的繁琐的工作而不会搞乱程序。这种“默记”过程中会存储每次函数 调用的结果以及使用到的参数。如果随后的函数调用了同样的参数，它会返回存储的结果， 而不是重新计算。（这方面的Python语法超出了本书的范围。）"
   ]
  },
  {
   "cell_type": "markdown",
   "metadata": {},
   "source": [
    "### 4.8 Python 库的样例\n",
    "\n",
    "#### Matplotlib 绘图工具\n",
    "\n",
    "我们一直专注文字介绍和使用格式化输出语句按列得到输出。以图形的形 式显示数值数据往往是非常有用的，因为这往往更容易检测到模式。例如：在例 3-5 中，我 们看到一个数字的表格，显示按类别划分的布朗语料库中的特殊情态动词的频率。例 4-10 中的程序以图形格式展示同样的信息。输出显示在图 4-4（一个图形显示的彩色图）"
   ]
  },
  {
   "cell_type": "code",
   "execution_count": 73,
   "metadata": {},
   "outputs": [
    {
     "data": {
      "image/png": "[encoded data removed]",
      "text/plain": [
       "<Figure size 432x288 with 1 Axes>"
      ]
     },
     "metadata": {
      "needs_background": "light"
     },
     "output_type": "display_data"
    }
   ],
   "source": [
    "# 例4-10. 布朗语料库中不同部分的情态动词频率\n",
    "colors = 'rgbcmyk'  #red, green, blue, cyan, magenta, yellow, black\n",
    "def bar_chart(categories, words, counts):\n",
    "    \"Plot a bar chart showing counts for each word by category\"\n",
    "    import pylab\n",
    "    ind = pylab.arange(len(words))\n",
    "    width = 1 / (len(categories) + 1)\n",
    "    bar_groups = []\n",
    "    for c in range(len(categories)):\n",
    "        bars = pylab.bar(ind + c * width, counts[categories[c]], width,\n",
    "                            color = colors[c % len(colors)])\n",
    "        bar_groups.append(bars)\n",
    "    pylab.xticks(ind + width, words)\n",
    "    pylab.legend([b[0] for b in bar_groups], categories, loc='upper left')\n",
    "    pylab.ylabel('Frequency')\n",
    "    pylab.title('Frequency of Six Modal Verbs by Genre')\n",
    "    pylab.show()\n",
    "\n",
    "genres = ['news', 'religion', 'hobbies', 'government', 'adventure']\n",
    "modals = ['can', 'could', 'may', 'might', 'must', 'will']\n",
    "cfdist = nltk.ConditionalFreqDist(\n",
    "    (genre, word)\n",
    "    for genre in genres\n",
    "    for word in nltk.corpus.brown.words(categories=genre)\n",
    "    if word in modals\n",
    ")\n",
    "counts = {}\n",
    "for genre in genres:\n",
    "    counts[genre] = [cfdist[genre][word] for word in modals]\n",
    "bar_chart(genres, modals, counts)"
   ]
  },
  {
   "cell_type": "markdown",
   "metadata": {},
   "source": [
    "从该柱状图可以立即看出`may` 和 `must` 有几乎相同的相对频率。`could` 和`might` 也一样。 也可以**动态的产生**这些数据的可视化图形。例如：**一个使用表单输入的网页可以允许访问者指定搜索参数，提交表单，看到一个动态生成的可视化图形**。要做到这一点，我们必须为`matplotlib`指定 `Agg`后台，它是一个产生栅格（像素）图像的库。下一步，我们像以前一样使用相同的`PyLab` 方法，但不是用`pylab.show()`显示结果在图形终端，而是使用`pylab.savefig()`把它保存到一个文件。我们指定文件名和 `dpi`，然后输出一些指示网页浏览器来加载该文件的HTML标记。"
   ]
  },
  {
   "cell_type": "code",
   "execution_count": 75,
   "metadata": {},
   "outputs": [
    {
     "name": "stdout",
     "output_type": "stream",
     "text": [
      "Content-Type: text/html\n",
      "\n",
      "<html><body>\n",
      "<img src=\"modals.png\"/>\n",
      "</body></html>\n"
     ]
    },
    {
     "data": {
      "text/plain": [
       "<Figure size 432x288 with 0 Axes>"
      ]
     },
     "metadata": {},
     "output_type": "display_data"
    }
   ],
   "source": [
    "import matplotlib\n",
    "import pylab\n",
    "matplotlib.use('Agg')\n",
    "pylab.savefig('modals.png')\n",
    "print('Content-Type: text/html')\n",
    "print()\n",
    "print('<html><body>')\n",
    "print('<img src=\"modals.png\"/>')\n",
    "print('</body></html>')"
   ]
  },
  {
   "cell_type": "markdown",
   "metadata": {},
   "source": [
    "#### `NetworkX`\n",
    "\n",
    "`NetworkX`包定义和操作被称为图的由节点和边组成的结构。它可以从 `https://networkx.lanl.gov/` 得到。`NetworkX`可以和 `Matplotlib` 结合使用可视化如`WordNet` 的网络结构（语义网络，我们在 2.5节介绍过）。例 4-11中的程序初始化一个空的图，然后遍历`WordNet` 上位词层次为图添加边。请注意，遍历是递归的，使用在 4.7节讨论的编程技术。结果显示 如图 4-5 所示。"
   ]
  },
  {
   "cell_type": "code",
   "execution_count": 77,
   "metadata": {},
   "outputs": [
    {
     "name": "stderr",
     "output_type": "stream",
     "text": [
      "f:\\Anaconda3\\lib\\site-packages\\ipykernel_launcher.py:24: UserWarning: Matplotlib is currently using agg, which is a non-GUI backend, so cannot show the figure.\n"
     ]
    },
    {
     "data": {
      "image/png": "[encoded data removed]",
      "text/plain": [
       "<Figure size 432x288 with 1 Axes>"
      ]
     },
     "metadata": {},
     "output_type": "display_data"
    }
   ],
   "source": [
    "# 例4-11. 使用NetworkX和Matplotlib库。\n",
    "from turtle import st\n",
    "import networkx as nx\n",
    "import matplotlib\n",
    "from nltk.corpus import wordnet as wn\n",
    "def traverse(graph, start, node):\n",
    "    graph.depth[node.name] = node.shortest_path_distance(start)\n",
    "    for child in node.hyponyms():\n",
    "        graph.add_edge(node.name, child.name)\n",
    "        traverse(graph, start, child)\n",
    "\n",
    "def hyponym_graph(start):\n",
    "    G = nx.Graph()\n",
    "    G.depth = {}\n",
    "    traverse(G, start, start)\n",
    "    return G\n",
    "\n",
    "def graph_draw(graph):\n",
    "    nx.draw(graph,\n",
    "        node_size = [16 * graph.degree(n) for n in graph],\n",
    "        node_color = [graph.depth[n] for n in graph],\n",
    "        with_labels = False\n",
    "    )\n",
    "    matplotlib.pyplot.show()\n",
    "\n",
    "dog = wn.synset('dog.n.01')\n",
    "graph = hyponym_graph(dog)\n",
    "graph_draw(graph)"
   ]
  },
  {
   "cell_type": "markdown",
   "metadata": {},
   "source": [
    "### `CSV`\n",
    "\n",
    "语言分析工作往往涉及数据统计表，包括有关词项的信息、试验研究的参与者名单或从语料库提取的语言特征。这里有一个`CSV`（Comma-separated values，逗号分隔型取值格式） 格式的简单的词典片段：\n",
    "\n",
    "我们可以使用 Python的CSV 库读写这种格式存储的文件。例如：我们可以打开一个叫\n",
    "做 `lexicon.csv`的 CSV 文件，并遍历它的行。\n",
    "\n",
    "每一行是一个字符串列表。如果字段包含有数值数据，它们将作为字符串出现，所以都\n",
    "必须使用 `int()`或 `float()`转换。"
   ]
  },
  {
   "cell_type": "code",
   "execution_count": 79,
   "metadata": {},
   "outputs": [
    {
     "name": "stdout",
     "output_type": "stream",
     "text": [
      "['sleep', ' sli:p', ' v.i', ' a condition of body and mind ... ']\n",
      "['walk', ' wo:k', ' v.intr', ' progress by lifting and setting down each foot ... ']\n",
      "['wake', ' weik', ' intrans', ' cease to sleep']\n"
     ]
    }
   ],
   "source": [
    "import csv\n",
    "input_file = open(\"lexicon.csv\", \"r\")\n",
    "for row in csv.reader(input_file):\n",
    "    print(row)"
   ]
  },
  {
   "cell_type": "markdown",
   "metadata": {},
   "source": [
    "### NumPy\n",
    "\n",
    "`NumPy` 包（基本的数值运算包）对 Python 中的数值处理提供了大量的支持。`NumPy` 有一个多维数组对象，它可以很容易初始化和访问："
   ]
  },
  {
   "cell_type": "code",
   "execution_count": 80,
   "metadata": {},
   "outputs": [],
   "source": [
    "from numpy import array\n",
    "cube = array([[[0,0,0], [1,1,1], [2,2,2]], \n",
    "[[3,3,3], [4,4,4], [5,5,5]], \n",
    "[[6,6,6], [7,7,7], [8,8,8]] ])"
   ]
  },
  {
   "cell_type": "code",
   "execution_count": 81,
   "metadata": {},
   "outputs": [
    {
     "data": {
      "text/plain": [
       "4"
      ]
     },
     "execution_count": 81,
     "metadata": {},
     "output_type": "execute_result"
    }
   ],
   "source": [
    "cube[1, 1, 1]"
   ]
  },
  {
   "cell_type": "code",
   "execution_count": 82,
   "metadata": {},
   "outputs": [
    {
     "data": {
      "text/plain": [
       "array([[6, 7, 8],\n",
       "       [6, 7, 8],\n",
       "       [6, 7, 8]])"
      ]
     },
     "execution_count": 82,
     "metadata": {},
     "output_type": "execute_result"
    }
   ],
   "source": [
    "cube[2].transpose()"
   ]
  },
  {
   "cell_type": "code",
   "execution_count": 83,
   "metadata": {},
   "outputs": [
    {
     "data": {
      "text/plain": [
       "array([[7, 7, 7],\n",
       "       [8, 8, 8]])"
      ]
     },
     "execution_count": 83,
     "metadata": {},
     "output_type": "execute_result"
    }
   ],
   "source": [
    "cube[2, 1:]"
   ]
  },
  {
   "cell_type": "markdown",
   "metadata": {},
   "source": [
    "`NumPy` 包括线性代数函数。在这里我们进行矩阵的奇异值分解，潜在语义分析中使用的操作，它能帮助识别一个文档集合中的隐含概念。"
   ]
  },
  {
   "cell_type": "code",
   "execution_count": 84,
   "metadata": {},
   "outputs": [
    {
     "data": {
      "text/plain": [
       "array([[-0.4472136 , -0.89442719],\n",
       "       [-0.89442719,  0.4472136 ]])"
      ]
     },
     "execution_count": 84,
     "metadata": {},
     "output_type": "execute_result"
    }
   ],
   "source": [
    "from numpy import linalg\n",
    "a = array([[4, 0], [3, -5]])\n",
    "u, s, vt = linalg.svd(a)\n",
    "u"
   ]
  },
  {
   "cell_type": "code",
   "execution_count": 85,
   "metadata": {},
   "outputs": [
    {
     "data": {
      "text/plain": [
       "array([6.32455532, 3.16227766])"
      ]
     },
     "execution_count": 85,
     "metadata": {},
     "output_type": "execute_result"
    }
   ],
   "source": [
    "s"
   ]
  },
  {
   "cell_type": "code",
   "execution_count": 86,
   "metadata": {},
   "outputs": [
    {
     "data": {
      "text/plain": [
       "array([[-0.70710678,  0.70710678],\n",
       "       [-0.70710678, -0.70710678]])"
      ]
     },
     "execution_count": 86,
     "metadata": {},
     "output_type": "execute_result"
    }
   ],
   "source": [
    "vt"
   ]
  },
  {
   "cell_type": "markdown",
   "metadata": {},
   "source": [
    "NLTK中的聚类包 `nltk.cluster` 中广泛使用`NumPy` 数组，支持包括 `k-means` 聚类、高斯EM聚类、组平均凝聚聚类以及聚类分析图。有关详细信息，请输入 `help(nltk.cluster)`。"
   ]
  },
  {
   "cell_type": "code",
   "execution_count": 87,
   "metadata": {},
   "outputs": [
    {
     "name": "stdout",
     "output_type": "stream",
     "text": [
      "Help on package nltk.cluster in nltk:\n",
      "\n",
      "NAME\n",
      "    nltk.cluster\n",
      "\n",
      "DESCRIPTION\n",
      "    This module contains a number of basic clustering algorithms. Clustering\n",
      "    describes the task of discovering groups of similar items with a large\n",
      "    collection. It is also describe as unsupervised machine learning, as the data\n",
      "    from which it learns is unannotated with class information, as is the case for\n",
      "    supervised learning.  Annotated data is difficult and expensive to obtain in\n",
      "    the quantities required for the majority of supervised learning algorithms.\n",
      "    This problem, the knowledge acquisition bottleneck, is common to most natural\n",
      "    language processing tasks, thus fueling the need for quality unsupervised\n",
      "    approaches.\n",
      "    \n",
      "    This module contains a k-means clusterer, E-M clusterer and a group average\n",
      "    agglomerative clusterer (GAAC). All these clusterers involve finding good\n",
      "    cluster groupings for a set of vectors in multi-dimensional space.\n",
      "    \n",
      "    The K-means clusterer starts with k arbitrary chosen means then allocates each\n",
      "    vector to the cluster with the closest mean. It then recalculates the means of\n",
      "    each cluster as the centroid of the vectors in the cluster. This process\n",
      "    repeats until the cluster memberships stabilise. This is a hill-climbing\n",
      "    algorithm which may converge to a local maximum. Hence the clustering is\n",
      "    often repeated with random initial means and the most commonly occurring\n",
      "    output means are chosen.\n",
      "    \n",
      "    The GAAC clusterer starts with each of the *N* vectors as singleton clusters.\n",
      "    It then iteratively merges pairs of clusters which have the closest centroids.\n",
      "    This continues until there is only one cluster. The order of merges gives rise\n",
      "    to a dendrogram - a tree with the earlier merges lower than later merges. The\n",
      "    membership of a given number of clusters *c*, *1 <= c <= N*, can be found by\n",
      "    cutting the dendrogram at depth *c*.\n",
      "    \n",
      "    The Gaussian EM clusterer models the vectors as being produced by a mixture\n",
      "    of k Gaussian sources. The parameters of these sources (prior probability,\n",
      "    mean and covariance matrix) are then found to maximise the likelihood of the\n",
      "    given data. This is done with the expectation maximisation algorithm. It\n",
      "    starts with k arbitrarily chosen means, priors and covariance matrices. It\n",
      "    then calculates the membership probabilities for each vector in each of the\n",
      "    clusters - this is the 'E' step. The cluster parameters are then updated in\n",
      "    the 'M' step using the maximum likelihood estimate from the cluster membership\n",
      "    probabilities. This process continues until the likelihood of the data does\n",
      "    not significantly increase.\n",
      "    \n",
      "    They all extend the ClusterI interface which defines common operations\n",
      "    available with each clusterer. These operations include.\n",
      "       - cluster: clusters a sequence of vectors\n",
      "       - classify: assign a vector to a cluster\n",
      "       - classification_probdist: give the probability distribution over cluster memberships\n",
      "    \n",
      "    The current existing classifiers also extend cluster.VectorSpace, an\n",
      "    abstract class which allows for singular value decomposition (SVD) and vector\n",
      "    normalisation. SVD is used to reduce the dimensionality of the vector space in\n",
      "    such a manner as to preserve as much of the variation as possible, by\n",
      "    reparameterising the axes in order of variability and discarding all bar the\n",
      "    first d dimensions. Normalisation ensures that vectors fall in the unit\n",
      "    hypersphere.\n",
      "    \n",
      "    Usage example (see also demo())::\n",
      "        from nltk import cluster\n",
      "        from nltk.cluster import euclidean_distance\n",
      "        from numpy import array\n",
      "    \n",
      "        vectors = [array(f) for f in [[3, 3], [1, 2], [4, 2], [4, 0]]]\n",
      "    \n",
      "        # initialise the clusterer (will also assign the vectors to clusters)\n",
      "        clusterer = cluster.KMeansClusterer(2, euclidean_distance)\n",
      "        clusterer.cluster(vectors, True)\n",
      "    \n",
      "        # classify a new vector\n",
      "        print(clusterer.classify(array([3, 3])))\n",
      "    \n",
      "    Note that the vectors must use numpy array-like\n",
      "    objects. nltk_contrib.unimelb.tacohn.SparseArrays may be used for\n",
      "    efficiency when required.\n",
      "\n",
      "PACKAGE CONTENTS\n",
      "    api\n",
      "    em\n",
      "    gaac\n",
      "    kmeans\n",
      "    util\n",
      "\n",
      "FILE\n",
      "    f:\\anaconda3\\lib\\site-packages\\nltk\\cluster\\__init__.py\n",
      "\n",
      "\n"
     ]
    }
   ],
   "source": [
    "help(nltk.cluster)"
   ]
  },
  {
   "cell_type": "markdown",
   "metadata": {},
   "source": [
    "#### 其他 Python 库\n",
    "还有许多其他的 Python库，你可以使用 `http://pypi.python.org/` 处的Python包索引找到它们。许多库提供了外部软件接口，例如：关系数据库（如：`mysql-python`）和大数据集合 （如 `PyLucene`）。许多其他库能访问各种文件格式，如 `PDF`、`MSWord`和 `XML`（`pypdf`， `pywin32`，`xml.etree`）、`RSS` 源（如 `feedparser`）以及电子邮箱（如 `imaplib`，`email`）。\n",
    "\n",
    "\n",
    "### 4.9 小结\n",
    "\n",
    "- Python 赋值和参数传递使用对象引用\n",
    "- `is` 操作测试是否两个对象是相同的内部对象，而`==`测试是否两个对象是相等的。两者的区别和标识符与类型的区别相似。\n",
    "- 我们可以通过以写方式打开文件来写入文本到一个文件：`ofile = open('output.txt', 'w')`，然后加入内容到文件：`ofile.write(\"Monty Python\")`，最后关闭文件`ofile.close()`\n",
    "- 动态规划是一种在 NLP 中广泛使用的算法设计技术，它存储以前的计算结果，以避免不必要的重复计算"
   ]
  }
 ],
 "metadata": {
  "kernelspec": {
   "display_name": "Python 3.7.6 ('base')",
   "language": "python",
   "name": "python3"
  },
  "language_info": {
   "codemirror_mode": {
    "name": "ipython",
    "version": 3
   },
   "file_extension": ".py",
   "mimetype": "text/x-python",
   "name": "python",
   "nbconvert_exporter": "python",
   "pygments_lexer": "ipython3",
   "version": "3.7.6"
  },
  "orig_nbformat": 4,
  "vscode": {
   "interpreter": {
    "hash": "d12a6980af1de3549060b7b451d48d445ec6b4aaeaf0b0e12a509d2182e95745"
   }
  }
 },
 "nbformat": 4,
 "nbformat_minor": 2
}
